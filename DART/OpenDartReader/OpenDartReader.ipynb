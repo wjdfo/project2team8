{
 "cells": [
  {
   "cell_type": "code",
   "execution_count": 1,
   "metadata": {},
   "outputs": [],
   "source": [
    "import OpenDartReader\n",
    "import pandas as pd\n",
    "import json\n",
    "\n",
    "with open('./dart_api_key.txt', 'r') as f :\n",
    "    api_key = f.readline()\n",
    "dart = OpenDartReader(api_key)\n",
    "\n",
    "with open('./ODR_type.json', 'r', encoding = 'utf-8') as f:\n",
    "    item = json.load(f)\n",
    "    report_list = item[\"사업보고서 형식\"]\n",
    "    event_list = item[\"주요사항보고서 형식\"]\n",
    "    reg_list = item[\"증권신고서 형식\"]"
   ]
  },
  {
   "cell_type": "code",
   "execution_count": 2,
   "metadata": {},
   "outputs": [],
   "source": [
    "public_list = dart.list('삼성전자') # 회사명으로 상장이후 모든 공시 목록 가져오기\n",
    "# dart.list('005930') <- 종목코드로도 접근 가능\n",
    "print(type(public_list))\n",
    "public_list.head()"
   ]
  },
  {
   "cell_type": "code",
   "execution_count": null,
   "metadata": {},
   "outputs": [],
   "source": [
    "corp = dart.company('005930') #공시정보 - 기업 개황\n",
    "print(type(corp))\n",
    "print(corp)\n",
    "\n",
    "xml_text = dart.document('20240327001155')\n",
    "print(type(xml_text))\n",
    "print(xml_text)"
   ]
  },
  {
   "cell_type": "code",
   "execution_count": null,
   "metadata": {},
   "outputs": [],
   "source": [
    "#사업보고서\n",
    "#pd.to_csv(\"file_name\") <- pandas dataframe을 csv파일로 저장 가능\n",
    "n = 1\n",
    "for r in report_list :\n",
    "    if n % 6 == 0 : print()\n",
    "    print(r, end = \"   \")\n",
    "    n += 1\n",
    "\n",
    "print()\n",
    "print()\n",
    "\n",
    "Report = dart.report('005930', '배당', 2022)\n",
    "print(type(Report))\n",
    "Report.head()"
   ]
  },
  {
   "cell_type": "code",
   "execution_count": null,
   "metadata": {},
   "outputs": [],
   "source": [
    "#상장기업 재무정보\n",
    "finance = dart.finstate('삼성전자', 2022)\n",
    "print(type(finance))\n",
    "finance.head()\n",
    "\n",
    "# 재무제표 XBRL 원본 파일 저장 (삼성전자 2022 사업보고서)\n",
    "# dart.finstate_xml('20230307000542', save_as='삼성전자_2022_사업보고서_XBRL.zip')"
   ]
  },
  {
   "cell_type": "code",
   "execution_count": null,
   "metadata": {},
   "outputs": [],
   "source": [
    "# 지분공시\n",
    "# 대량보유 상황보고\n",
    "share = dart.major_shareholders('005930')\n",
    "print(type(share))\n",
    "print(\"-------------------대량보유 상황보고-------------------\")\n",
    "print(share)\n",
    "print()\n",
    "print()\n",
    "\n",
    "# 임원ㆍ주요주주 소유보고\n",
    "major_share = dart.major_shareholders('005930')\n",
    "print(type(major_share))\n",
    "print(\"-------------------임원ㆍ주요주주 소유보고-------------------\")\n",
    "major_share.head()"
   ]
  },
  {
   "cell_type": "code",
   "execution_count": null,
   "metadata": {},
   "outputs": [],
   "source": [
    "# 주요사항보고서\n",
    "# dart.event(corp, event, start = None, end = None)\n",
    "\n",
    "n = 0\n",
    "for event in event_list :\n",
    "    if n % 6 == 0 : print()\n",
    "    print(event, end = \"   \")\n",
    "    n += 1\n",
    "\n",
    "print()\n",
    "print()\n",
    "print(\"------------주요사항보고서(영업정지)------------\")\n",
    "Event = dart.event('052220', \"자기주식처분\", start = '1970-01-01', end = '2023-01-01')\n",
    "print(type(Event))\n",
    "Event.head()"
   ]
  },
  {
   "cell_type": "code",
   "execution_count": null,
   "metadata": {},
   "outputs": [],
   "source": [
    "#증권신고서\n",
    "for r in reg_list :\n",
    "    print(r, end = \"   \")\n",
    "print()\n",
    "print()\n",
    "\n",
    "reg = dart.regstate('사조대림', '합병')\n",
    "print(type(reg))\n",
    "reg.head()"
   ]
  },
  {
   "cell_type": "code",
   "execution_count": null,
   "metadata": {},
   "outputs": [],
   "source": [
    "rcp_no = '20220308000798' # 삼성전자 2021년 사업보고서\n",
    "samsung_report = dart.sub_docs(rcp_no)\n",
    "print(type(samsung_report))\n",
    "print()\n",
    "\n",
    "for ix, row in samsung_report.iterrows():\n",
    "    print(row['title'])\n",
    "    print(row['url'])"
   ]
  },
  {
   "cell_type": "code",
   "execution_count": null,
   "metadata": {},
   "outputs": [],
   "source": [
    "# 첨부 문서 제목과 URL\n",
    "print(\"첨부 문서 제목과 URL\")\n",
    "for ix, row in dart.attach_docs(rcp_no).iterrows():\n",
    "    print(row['title'])\n",
    "    print(row['url'])\n",
    "\n",
    "print()\n",
    "print()\n",
    "\n",
    "print(\"첨부 파일 제목과 URL\")\n",
    "files = dart.attach_files(rcp_no)\n",
    "for title, url in files.items():\n",
    "    print(title)\n",
    "    print(url)\n",
    "    # dart.download(url, title) << 첨부파일 모두 다운로드"
   ]
  }
 ],
 "metadata": {
  "kernelspec": {
   "display_name": "Python 3",
   "language": "python",
   "name": "python3"
  },
  "language_info": {
   "codemirror_mode": {
    "name": "ipython",
    "version": 3
   },
   "file_extension": ".py",
   "mimetype": "text/x-python",
   "name": "python",
   "nbconvert_exporter": "python",
   "pygments_lexer": "ipython3",
   "version": "3.11.5"
  }
 },
 "nbformat": 4,
 "nbformat_minor": 2
}
