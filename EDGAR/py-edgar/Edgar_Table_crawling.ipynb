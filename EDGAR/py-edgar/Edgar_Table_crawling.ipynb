{
 "cells": [
  {
   "cell_type": "code",
   "execution_count": null,
   "metadata": {},
   "outputs": [],
   "source": [
    "pip install pandas"
   ]
  },
  {
   "cell_type": "code",
   "execution_count": null,
   "metadata": {},
   "outputs": [],
   "source": [
    "pip install lxml"
   ]
  },
  {
   "cell_type": "code",
   "execution_count": null,
   "metadata": {},
   "outputs": [],
   "source": [
    "pip install bs4"
   ]
  },
  {
   "cell_type": "code",
   "execution_count": null,
   "metadata": {},
   "outputs": [],
   "source": [
    "pip install html_table_parser"
   ]
  },
  {
   "cell_type": "code",
   "execution_count": null,
   "metadata": {},
   "outputs": [],
   "source": [
    "pip install requests"
   ]
  },
  {
   "cell_type": "code",
   "execution_count": null,
   "metadata": {},
   "outputs": [],
   "source": [
    "pip install --upgrade pip"
   ]
  },
  {
   "cell_type": "code",
   "execution_count": null,
   "metadata": {},
   "outputs": [],
   "source": [
    "from urllib.request import Request, urlopen\n",
    "import requests\n",
    "from bs4 import BeautifulSoup\n",
    "from html_table_parser import parser_functions as parser"
   ]
  },
  {
   "cell_type": "code",
   "execution_count": null,
   "metadata": {},
   "outputs": [],
   "source": [
    "url = \"https://www.sec.gov/Archives/edgar/data/320193/000032019321000056/aapl-20210327.htm\""
   ]
  },
  {
   "cell_type": "code",
   "execution_count": null,
   "metadata": {},
   "outputs": [],
   "source": [
    "html_content = \"<html><head><title>EDGAR Document</title></head><body><table><tr><th>Column 1</th><th>Column 2</th></tr><tr><td>Data 1</td><td>Data 2</td></tr></table></body></html>\""
   ]
  },
  {
   "cell_type": "code",
   "execution_count": null,
   "metadata": {},
   "outputs": [],
   "source": [
    "session = requests.Session()\n",
    "response = session.get(url, headers={\"User-Agent\": \"Mozilla/5.0\"})\n",
    "print(response)"
   ]
  },
  {
   "cell_type": "code",
   "execution_count": null,
   "metadata": {},
   "outputs": [],
   "source": [
    "if response.status_code == 200:\n",
    "    sec_doc = BeautifulSoup(response.text, 'html.parser')\n",
    "    # sec_doc = BeautifulSoup(html_content, 'html.parser')\n",
    "else:\n",
    "    print('Error Code:',response.status_code)"
   ]
  },
  {
   "cell_type": "code",
   "execution_count": null,
   "metadata": {},
   "outputs": [],
   "source": [
    "tables = sec_doc.find_all(\"table\")\n",
    "print(len(tables),':')\n",
    "print(tables)"
   ]
  },
  {
   "cell_type": "code",
   "execution_count": null,
   "metadata": {},
   "outputs": [],
   "source": [
    "p = parser.make2d(tables[7])\n",
    "print(p)"
   ]
  },
  {
   "cell_type": "code",
   "execution_count": null,
   "metadata": {},
   "outputs": [],
   "source": [
    "import pandas as pd\n",
    "df=pd.DataFrame(p[2:],columns=p[0])"
   ]
  },
  {
   "cell_type": "code",
   "execution_count": null,
   "metadata": {},
   "outputs": [],
   "source": [
    "print(df)"
   ]
  },
  {
   "cell_type": "code",
   "execution_count": 162,
   "metadata": {},
   "outputs": [
    {
     "name": "stdout",
     "output_type": "stream",
     "text": [
      "\n",
      "\n",
      "table 0 , len: 2\n",
      "       \n",
      "0      \n",
      "\n",
      "\n",
      "table 1 , len: 2\n",
      "       \n",
      "0      \n",
      "\n",
      "\n",
      "table 2 , len: 2\n",
      "       \n",
      "0      \n",
      "\n",
      "\n",
      "table 3 , len: 2\n",
      "       \n",
      "0      \n",
      "\n",
      "\n",
      "table 4 , len: 2\n",
      "       \n",
      "0      \n",
      "\n",
      "\n",
      "table 6 , len: 2\n",
      "       \n",
      "0      \n",
      "\n",
      "\n",
      "table 8 , len: 2\n",
      "       \n",
      "0      \n",
      "\n",
      "\n",
      "table 10 , len: 2\n",
      "       \n",
      "0      \n"
     ]
    }
   ],
   "source": [
    "import pandas as pd\n",
    "\n",
    "for idx, table in enumerate(tables):\n",
    "    p = parser.make2d(table)\n",
    "    df=pd.DataFrame(data=p[1:],columns=p[0])\n",
    "    # if not df.empty:\n",
    "    if len(table) > 2:\n",
    "     print('\\n')\n",
    "     print('table', idx, ', len:', len(table))\n",
    "     print(df)"
   ]
  }
 ],
 "metadata": {
  "kernelspec": {
   "display_name": "Python 3",
   "language": "python",
   "name": "python3"
  },
  "language_info": {
   "codemirror_mode": {
    "name": "ipython",
    "version": 3
   },
   "file_extension": ".py",
   "mimetype": "text/x-python",
   "name": "python",
   "nbconvert_exporter": "python",
   "pygments_lexer": "ipython3",
   "version": "3.9.17"
  }
 },
 "nbformat": 4,
 "nbformat_minor": 2
}
